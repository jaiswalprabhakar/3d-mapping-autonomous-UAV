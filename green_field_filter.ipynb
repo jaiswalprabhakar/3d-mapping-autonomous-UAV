{
 "cells": [
  {
   "cell_type": "code",
   "execution_count": 23,
   "metadata": {},
   "outputs": [],
   "source": [
    "import cv2\n",
    "import numpy as np\n",
    " \n",
    "frame = cv2.imread(\"image2.jpg\")\n",
    "# It converts the BGR color space of image to HSV color space\n",
    "hsv = cv2.cvtColor(frame, cv2.COLOR_BGR2HSV)\n",
    "    \n",
    "# Threshold of blue in HSV space\n",
    "lower_value = np.array([20, 80, 0])\n",
    "upper_value = np.array([255, 255, 255])\n",
    "\n",
    "# preparing the mask to overlay\n",
    "mask = cv2.inRange(hsv, lower_value, upper_value)\n",
    "    \n",
    "# The black region in the mask has the value of 0,\n",
    "# so when multiplied with original image removes all non-blue regions\n",
    "result = cv2.bitwise_and(frame, frame, mask = mask)\n",
    "\n",
    "cv2.imshow('frame', frame)\n",
    "#cv2.imshow('mask', mask)\n",
    "cv2.imshow('result', result)\n",
    "\n",
    "if cv2.waitKey(0):\n",
    "    cv2.destroyAllWindows()\n",
    " \n",
    "\n"
   ]
  },
  {
   "cell_type": "code",
   "execution_count": null,
   "metadata": {},
   "outputs": [],
   "source": []
  }
 ],
 "metadata": {
  "interpreter": {
   "hash": "ba7fcf98e560f3f626384a082608c9f5cfa72af1f5b12f4ab9ca0d667cf3160a"
  },
  "kernelspec": {
   "display_name": "Python 3.6.8 64-bit",
   "language": "python",
   "name": "python3"
  },
  "language_info": {
   "codemirror_mode": {
    "name": "ipython",
    "version": 3
   },
   "file_extension": ".py",
   "mimetype": "text/x-python",
   "name": "python",
   "nbconvert_exporter": "python",
   "pygments_lexer": "ipython3",
   "version": "3.6.8"
  },
  "orig_nbformat": 4
 },
 "nbformat": 4,
 "nbformat_minor": 2
}
